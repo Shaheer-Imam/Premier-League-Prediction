{
  "nbformat": 4,
  "nbformat_minor": 0,
  "metadata": {
    "colab": {
      "name": "Result Prediction.ipynb",
      "provenance": [],
      "collapsed_sections": []
    },
    "kernelspec": {
      "name": "python3",
      "display_name": "Python 3"
    }
  },
  "cells": [
    {
      "cell_type": "code",
      "metadata": {
        "id": "jheC4X1OBLYs",
        "colab_type": "code",
        "colab": {}
      },
      "source": [
        "import numpy as np\n",
        "import pandas as pd\n",
        "import matplotlib.pyplot as plt\n",
        "import seaborn as sns\n",
        "import scipy.stats as stats\n",
        "import math\n",
        "import csv\n",
        "\n",
        "from sklearn.linear_model import LinearRegression\n",
        "from sklearn.linear_model import Ridge,Lasso,ElasticNet,RidgeCV,LassoCV,ElasticNetCV\n",
        "from sklearn.model_selection import cross_val_score\n",
        "from sklearn.metrics import mean_squared_error\n",
        "from sklearn.linear_model import LogisticRegression\n",
        "from sklearn.metrics import confusion_matrix\n",
        "from sklearn.feature_selection import RFE\n",
        "from sklearn.ensemble import RandomForestClassifier\n",
        "from sklearn.ensemble import RandomForestRegressor\n",
        "from sklearn.model_selection import train_test_split\n",
        "from sklearn.neighbors import KNeighborsClassifier\n",
        "from sklearn.ensemble import ExtraTreesClassifier\n",
        "from sklearn.ensemble import GradientBoostingClassifier\n",
        "from sklearn.ensemble import GradientBoostingRegressor\n",
        "from sklearn.metrics import accuracy_score\n",
        "from sklearn.ensemble import AdaBoostRegressor\n",
        "from sklearn.ensemble import ExtraTreesRegressor\n",
        "from sklearn.svm import SVR\n",
        "plt.style.use('fivethirtyeight')\n",
        "sns.set_style('whitegrid')\n",
        "\n",
        "%config InlineBackend.figure_format = 'retina'\n",
        "%matplotlib inline"
      ],
      "execution_count": 0,
      "outputs": []
    },
    {
      "cell_type": "code",
      "metadata": {
        "id": "jrLqf1DbB0cj",
        "colab_type": "code",
        "outputId": "2fb57ba2-b263-459b-cfdc-2d8d1c59f414",
        "colab": {
          "base_uri": "https://localhost:8080/",
          "height": 34
        }
      },
      "source": [
        "from google.colab import drive\n",
        "drive.mount('/content/drive')"
      ],
      "execution_count": 149,
      "outputs": [
        {
          "output_type": "stream",
          "text": [
            "Drive already mounted at /content/drive; to attempt to forcibly remount, call drive.mount(\"/content/drive\", force_remount=True).\n"
          ],
          "name": "stdout"
        }
      ]
    },
    {
      "cell_type": "code",
      "metadata": {
        "id": "lsSgQQwyAExb",
        "colab_type": "code",
        "colab": {}
      },
      "source": [
        "path = \"/content/drive/My Drive/Datasets/EPL.csv\"\n",
        "path2 = \"/content/drive/My Drive/Datasets/EPL 2017.csv\"\n",
        "data = pd.read_csv(path)\n",
        "data2 = pd.read_csv(path2)"
      ],
      "execution_count": 0,
      "outputs": []
    },
    {
      "cell_type": "code",
      "metadata": {
        "id": "wzUnVMjEAyeJ",
        "colab_type": "code",
        "colab": {}
      },
      "source": [
        "teamList = ['Arsenal', 'Bournemouth', 'Burnley', 'Chelsea', 'Crystal Palace', 'Everton', 'Leicester', 'Liverpool', 'Man City', 'Man United', 'Southampton', 'Stoke', 'Swansea', 'Tottenham', 'Watford', 'West Brom', 'West Ham']\n",
        "def win(row):\n",
        "    if (row[\"FTR\"] == \"A\"):\n",
        "        return row[\"AwayTeam\"]\n",
        "    elif (row[\"FTR\"] == \"H\"):\n",
        "        return row[\"HomeTeam\"]\n",
        "    elif (row[\"FTR\"] == \"D\"):\n",
        "        return \"None\"\n",
        "    \n",
        "\n",
        "def lose(row):\n",
        "    if (row[\"FTR\"] == \"A\"):\n",
        "        return row[\"HomeTeam\"]\n",
        "    elif (row[\"FTR\"]  == \"H\"):\n",
        "        return row[\"AwayTeam\"]\n",
        "    elif (row[\"FTR\"]  == \"D\"):\n",
        "        return \"None\"\n",
        "\n",
        "data[\"Winner\"] = data.apply(win,axis=1)\n",
        "data[\"Loser\"] = data.apply(lose,axis=1)\n",
        "\n",
        "data2[\"Winner\"] = data2.apply(win,axis=1)\n",
        "data2[\"Loser\"] = data2.apply(lose,axis=1)\n"
      ],
      "execution_count": 0,
      "outputs": []
    },
    {
      "cell_type": "code",
      "metadata": {
        "id": "MjGGlgbaDVyp",
        "colab_type": "code",
        "colab": {}
      },
      "source": [
        "def TeamData(teamName):\n",
        "    annual_data = data\n",
        "    #num goals scored in wins and losses \n",
        "    gamesHome = annual_data[annual_data[\"HomeTeam\"] == teamName]\n",
        "    totalGoalsScored = gamesHome[\"FTHG\"].sum()\n",
        "    gamesAway = annual_data[annual_data[\"AwayTeam\"] == teamName]\n",
        "    totalGames = gamesHome.append(gamesAway)\n",
        "    numGames = len(totalGames.index)\n",
        "    #total goals scored\n",
        "    totalGoalsScored += gamesAway[\"FTAG\"].sum()\n",
        "    #total goals allowed\n",
        "    totalGoalsAllowed = gamesHome[\"FTAG\"].sum()\n",
        "    totalGoalsAllowed += gamesAway[\"FTHG\"].sum()\n",
        "    #discipline: total red cards, total yellow cards\n",
        "    totalYellowCards = gamesHome[\"HY\"].sum()\n",
        "    totalYellowCards += gamesAway[\"AY\"].sum()\n",
        "    totalRedCards = gamesHome[\"HR\"].sum()\n",
        "    totalRedCards += gamesHome[\"AY\"].sum() \n",
        "    #total fouls \n",
        "    totalFouls = gamesHome[\"HF\"].sum()\n",
        "    totalFouls += gamesAway[\"AF\"].sum()\n",
        "    #total corners\n",
        "    totalCorners = gamesHome[\"HC\"].sum()\n",
        "    totalCorners += gamesAway[\"AC\"].sum()\n",
        "    #shots per game (spg) = total shots / total games\n",
        "    totalShots = gamesHome[\"HS\"].sum()\n",
        "    #avgshots per game\n",
        "    totalShots += gamesAway[\"AS\"].sum()\n",
        "    if numGames != 0:\n",
        "        spg = totalShots / numGames\n",
        "    # avg shots allowed per game\n",
        "    totalShotsAgainst = gamesHome[\"AS\"].sum()\n",
        "    totalShotsAgainst += gamesAway[\"HS\"].sum()\n",
        "    if numGames != 0:\n",
        "        sag = totalShotsAgainst / numGames\n",
        "    #Games Won percentage = Games Won / (Games won + Games Lost)\n",
        "    gamesWon = annual_data[annual_data[\"Winner\"] == teamName]\n",
        "    gamesLost = annual_data[annual_data[\"Loser\"] == teamName]\n",
        "    numGamesWon = len(gamesWon.index)\n",
        "    numGamesLost = len(gamesLost.index)\n",
        "    if numGames != 0:\n",
        "        gamesWonPercentage = numGamesWon / numGames\n",
        "     #Defense stats\n",
        "        #Goalie Saves = Shots on Goal - Goal Scored\n",
        "    #totalShotsonGoal = tsog\n",
        "    tsog  = gamesHome[\"HST\"].sum()\n",
        "    tsog += gamesAway[\"AST\"].sum()\n",
        "    goalieSaves = tsog - totalGoalsAllowed\n",
        "       #Saves Percentage = Goalie Saves / Shots on Goal\n",
        "    if tsog != 0:\n",
        "        savesPercentage = goalieSaves / tsog\n",
        "        #Saves Ratio = shots on Goal / Goalie Saves\n",
        "    if goalieSaves != 0:\n",
        "        savesRatio = tsog / goalieSaves\n",
        "    \n",
        "    #offense stats\n",
        "        #Scoring Percentage = (Scoring Attempts - Goals Scored) / Scorring Attempts\n",
        "    if totalShots != 0 :\n",
        "        scoringPercentage = (totalShots - totalGoalsScored) / totalShots\n",
        "        #Scoring Ratio = Shots on Goal / Goalie Saves\n",
        "    if tsog != 0:\n",
        "        scoringRatio = tsog / totalGoalsScored\n",
        "        \n",
        "    if numGames == 0: #if team not in dataset\n",
        "        gamesWon = 0 \n",
        "        gamesLost = 0\n",
        "        totalGoalsScored = 0\n",
        "        totalGoalsAllowed = 0\n",
        "        totalYellowCards = 0\n",
        "        totalRedCards = 0\n",
        "        totalFouls = 0\n",
        "        totalCorners = 0\n",
        "        spg = 0\n",
        "        sag = 0\n",
        "        gamesWonPercentage = 0\n",
        "        goalieSaves = 0 \n",
        "        savesPercentage = 0\n",
        "        savesRatio= 0\n",
        "        scoringPercentage = 0 \n",
        "        scoringRatio = 0 \n",
        "\n",
        "    return[totalGoalsScored, totalGoalsAllowed, totalYellowCards, totalRedCards, scoringPercentage, totalFouls, totalCorners, spg, sag, gamesWonPercentage,goalieSaves, savesPercentage, savesRatio, scoringRatio]"
      ],
      "execution_count": 0,
      "outputs": []
    },
    {
      "cell_type": "markdown",
      "metadata": {
        "id": "gTZCQjDfDljf",
        "colab_type": "text"
      },
      "source": [
        "##2019-20 Model Training\n"
      ]
    },
    {
      "cell_type": "code",
      "metadata": {
        "id": "ZvWv6_6xDhLV",
        "colab_type": "code",
        "colab": {}
      },
      "source": [
        "totalNumGames = 0 \n",
        "totalNumGames += len(data.index)\n",
        "numFeatures = len(TeamData(\"Arsenal\"))# to find dimensionality\n",
        "xTrain1 = np.zeros((totalNumGames, numFeatures))\n",
        "yTrain1 = np.zeros((totalNumGames))\n"
      ],
      "execution_count": 0,
      "outputs": []
    },
    {
      "cell_type": "code",
      "metadata": {
        "id": "weZwP6XFDyhj",
        "colab_type": "code",
        "colab": {}
      },
      "source": [
        "from collections import defaultdict\n",
        "annualDictionary = defaultdict(list)\n",
        "for team in teamList:\n",
        "    team_vector = TeamData(team)\n",
        "    annualDictionary[team] = team_vector"
      ],
      "execution_count": 0,
      "outputs": []
    },
    {
      "cell_type": "code",
      "metadata": {
        "id": "EOQnz11oD1gx",
        "colab_type": "code",
        "colab": {}
      },
      "source": [
        "team_vectors = annualDictionary\n",
        "annual = data\n",
        "numGamesInYear = len(annual.index)\n",
        "xTrainAnnual = np.zeros((numGamesInYear, numFeatures))\n",
        "yTrainAnnual = np.zeros((numGamesInYear))\n",
        "counter = 0"
      ],
      "execution_count": 0,
      "outputs": []
    },
    {
      "cell_type": "code",
      "metadata": {
        "id": "w-HYVPHVD480",
        "colab_type": "code",
        "colab": {}
      },
      "source": [
        "for index, row in annual.iterrows():\n",
        "    h_team = row[\"HomeTeam\"]\n",
        "    h_vector = team_vectors[h_team]\n",
        "    a_team = row[\"AwayTeam\"]\n",
        "    a_vector = team_vectors[a_team]\n",
        "    diff = [a-b for a, b in zip(h_vector, a_vector)]\n",
        "    if (counter % 2 == 0):\n",
        "        if len(diff) != 0:\n",
        "            xTrainAnnual[counter] = diff\n",
        "        yTrainAnnual[counter] = 1\n",
        "    else: \n",
        "        if len(diff)!=0:\n",
        "            xTrainAnnual[counter] = [-p for p in diff]\n",
        "        yTrainAnnual[counter] = 0\n",
        "    counter += 1"
      ],
      "execution_count": 0,
      "outputs": []
    },
    {
      "cell_type": "code",
      "metadata": {
        "id": "TspLb1ViD_FX",
        "colab_type": "code",
        "outputId": "cc5a8df7-c38a-48ad-d1a9-6611b350dff9",
        "colab": {
          "base_uri": "https://localhost:8080/",
          "height": 52
        }
      },
      "source": [
        "indexCounter = 0 \n",
        "xTrain1[indexCounter:numGamesInYear+indexCounter] = xTrainAnnual\n",
        "yTrain1[indexCounter:numGamesInYear+indexCounter] = yTrainAnnual\n",
        "indexCounter += numGamesInYear\n",
        "print(xTrain1.shape)\n",
        "print(yTrain1.shape)"
      ],
      "execution_count": 157,
      "outputs": [
        {
          "output_type": "stream",
          "text": [
            "(380, 14)\n",
            "(380,)\n"
          ],
          "name": "stdout"
        }
      ]
    },
    {
      "cell_type": "markdown",
      "metadata": {
        "id": "lf1xhkgeEMWp",
        "colab_type": "text"
      },
      "source": [
        "## Previous Season data is added for accuracy\n"
      ]
    },
    {
      "cell_type": "code",
      "metadata": {
        "id": "CuMaPxRbEEdj",
        "colab_type": "code",
        "colab": {}
      },
      "source": [
        "def TeamData2(teamName):\n",
        "    annual_data = data2\n",
        "    #num goals scored in wins and losses \n",
        "    gamesHome = annual_data[annual_data[\"HomeTeam\"] == teamName]\n",
        "    totalGoalsScored = gamesHome[\"FTHG\"].sum()\n",
        "    gamesAway = annual_data[annual_data[\"AwayTeam\"] == teamName]\n",
        "    totalGames = gamesHome.append(gamesAway)\n",
        "    numGames = len(totalGames.index)\n",
        "    #total goals scored\n",
        "    totalGoalsScored += gamesAway[\"FTAG\"].sum()\n",
        "    #total goals allowed\n",
        "    totalGoalsAllowed = gamesHome[\"FTAG\"].sum()\n",
        "    totalGoalsAllowed += gamesAway[\"FTHG\"].sum()\n",
        "    #discipline: total red cards, total yellow cards\n",
        "    totalYellowCards = gamesHome[\"HY\"].sum()\n",
        "    totalYellowCards -= gamesAway[\"AY\"].sum()\n",
        "    totalRedCards = gamesHome[\"HR\"].sum()\n",
        "    totalRedCards -= gamesHome[\"AY\"].sum() \n",
        "    #total fouls \n",
        "    totalFouls = gamesHome[\"HF\"].sum()\n",
        "    totalFouls += gamesAway[\"AF\"].sum()\n",
        "    #total corners\n",
        "    totalCorners = gamesHome[\"HC\"].sum()\n",
        "    totalCorners += gamesAway[\"AC\"].sum()\n",
        "    #shots per game (spg) = total shots / total games\n",
        "    totalShots = gamesHome[\"HS\"].sum()\n",
        "    #avgshots per game\n",
        "    totalShots += gamesAway[\"AS\"].sum()\n",
        "    if numGames != 0:\n",
        "        spg = totalShots / numGames\n",
        "    # avg shots allowed per game\n",
        "    totalShotsAgainst = gamesHome[\"AS\"].sum()\n",
        "    totalShotsAgainst += gamesAway[\"HS\"].sum()\n",
        "    if numGames != 0:\n",
        "        sag = totalShotsAgainst / numGames\n",
        "    #Games Won percentage = Games Won / (Games won + Games Lost)\n",
        "    gamesWon = annual_data[annual_data[\"Winner\"] == teamName]\n",
        "    gamesLost = annual_data[annual_data[\"Loser\"] == teamName]\n",
        "    numGamesWon = len(gamesWon.index)\n",
        "    numGamesLost = len(gamesLost.index)\n",
        "    if numGames != 0:\n",
        "        gamesWonPercentage = numGamesWon / numGames\n",
        "     #Defense stats\n",
        "        #Goalie Saves = Shots on Goal - Goal Scored\n",
        "    #totalShotsonGoal = tsog\n",
        "    tsog  = gamesHome[\"HST\"].sum()\n",
        "    tsog += gamesAway[\"AST\"].sum()\n",
        "    goalieSaves = tsog - totalGoalsAllowed\n",
        "       #Saves Percentage = Goalie Saves / Shots on Goal\n",
        "    if tsog != 0:\n",
        "        savesPercentage = goalieSaves / tsog\n",
        "        #Saves Ratio = shots on Goal / Goalie Saves\n",
        "    if goalieSaves != 0:\n",
        "        savesRatio = tsog / goalieSaves\n",
        "    \n",
        "    #offense stats\n",
        "        #Scoring Percentage = (Scoring Attempts - Goals Scored) / Scorring Attempts\n",
        "    if totalShots != 0 :\n",
        "        scoringPercentage = (totalShots - totalGoalsScored) / totalShots\n",
        "        #Scoring Ratio = Shots on Goal / Goalie Saves\n",
        "    if tsog != 0:\n",
        "        scoringRatio = tsog / totalGoalsScored\n",
        "        \n",
        "    if numGames == 0: #if team not in dataset\n",
        "        gamesWon = 0 \n",
        "        gamesLost = 0\n",
        "        totalGoalsScored\n",
        "        totalGoalsAllowed = 0\n",
        "        totalYellowCards = 0\n",
        "        totalRedCards = 0\n",
        "        totalFouls = 0\n",
        "        totalCorners = 0\n",
        "        spg = 0\n",
        "        sag = 0\n",
        "        gamesWonPercentage = 0\n",
        "        goalieSaves = 0 \n",
        "        savesPercentage = 0\n",
        "        savesRatio= 0\n",
        "        scoringPercentage = 0 \n",
        "        scoringRatio = 0 \n",
        "\n",
        "    return[totalGoalsScored, totalGoalsAllowed, totalYellowCards, totalRedCards, totalFouls, totalCorners, spg, sag, gamesWonPercentage, goalieSaves, savesPercentage, savesRatio, scoringPercentage, scoringRatio]\n"
      ],
      "execution_count": 0,
      "outputs": []
    },
    {
      "cell_type": "markdown",
      "metadata": {
        "id": "QIk3tmsbFt9M",
        "colab_type": "text"
      },
      "source": [
        "## Model Training\n"
      ]
    },
    {
      "cell_type": "code",
      "metadata": {
        "id": "IeDPqbS_EZ5d",
        "colab_type": "code",
        "colab": {}
      },
      "source": [
        "totalNumGames = 0 \n",
        "totalNumGames += len(data2.index)\n",
        "numFeatures = len(TeamData2(\"Arsenal\"))# to find dimensionality\n",
        "xTrain2 = np.zeros((totalNumGames, numFeatures))\n",
        "yTrain2 = np.zeros((totalNumGames))\n",
        "from collections import defaultdict\n",
        "annualDictionary = defaultdict(list)\n",
        "for team in teamList:\n",
        "    team_vector = TeamData2(team)\n",
        "    annualDictionary[team] = team_vector\n",
        "team_vectors = annualDictionary\n",
        "annual = data2\n",
        "numGamesInYear = len(annual.index)\n",
        "xTrainAnnual = np.zeros((numGamesInYear, numFeatures))\n",
        "yTrainAnnual = np.zeros((numGamesInYear))\n",
        "counter = 0 \n",
        "for index, row in annual.iterrows():\n",
        "    h_team = row[\"HomeTeam\"]\n",
        "    h_vector = team_vectors[h_team]\n",
        "    a_team = row[\"AwayTeam\"]\n",
        "    a_vector = team_vectors[a_team]\n",
        "    diff = [a-b for a, b in zip(h_vector, a_vector)]\n",
        "    if (counter % 2 == 0):\n",
        "        if len(diff) != 0:\n",
        "            xTrainAnnual[counter] = diff\n",
        "        yTrainAnnual[counter] = 1\n",
        "    else: \n",
        "        if len(diff)!=0:\n",
        "            xTrainAnnual[counter] = [-p for p in diff]\n",
        "        yTrainAnnual[counter] = 0\n",
        "    counter += 1\n",
        "\n",
        "indexCounter = 0 \n",
        "xTrain2[indexCounter:numGamesInYear+indexCounter] = xTrainAnnual\n",
        "yTrain2[indexCounter:numGamesInYear+indexCounter] = yTrainAnnual\n",
        "indexCounter += numGamesInYear\n",
        "\n",
        "\n"
      ],
      "execution_count": 0,
      "outputs": []
    },
    {
      "cell_type": "code",
      "metadata": {
        "id": "0BmMGaP8F7w6",
        "colab_type": "code",
        "outputId": "6c662971-7aca-4012-edb2-9f3595b5b993",
        "colab": {
          "base_uri": "https://localhost:8080/",
          "height": 34
        }
      },
      "source": [
        "xtrainfin = np.concatenate([xTrain2,xTrain1], axis=0)\n",
        "ytrainfin = np.concatenate([yTrain2,yTrain1], axis=0)\n",
        "xtrainfin.shape\n",
        "ytrainfin.shape"
      ],
      "execution_count": 160,
      "outputs": [
        {
          "output_type": "execute_result",
          "data": {
            "text/plain": [
              "(760,)"
            ]
          },
          "metadata": {
            "tags": []
          },
          "execution_count": 160
        }
      ]
    },
    {
      "cell_type": "code",
      "metadata": {
        "id": "7sn6dX_IGF1p",
        "colab_type": "code",
        "colab": {}
      },
      "source": [
        "model1 = ExtraTreesClassifier()\n",
        "model2 = RandomForestClassifier()"
      ],
      "execution_count": 0,
      "outputs": []
    },
    {
      "cell_type": "code",
      "metadata": {
        "id": "H8EKg7phGHiP",
        "colab_type": "code",
        "outputId": "722093e3-28b0-4ab0-fceb-b8cbad801c1b",
        "colab": {
          "base_uri": "https://localhost:8080/",
          "height": 69
        }
      },
      "source": [
        "model1.fit(xtrainfin, ytrainfin)\n",
        "print (model1.feature_importances_)"
      ],
      "execution_count": 162,
      "outputs": [
        {
          "output_type": "stream",
          "text": [
            "[0.07168555 0.07667825 0.07901543 0.06923645 0.07247229 0.06679691\n",
            " 0.06617394 0.0741692  0.06877046 0.06743262 0.06308093 0.07554317\n",
            " 0.07088895 0.07805586]\n"
          ],
          "name": "stdout"
        }
      ]
    },
    {
      "cell_type": "code",
      "metadata": {
        "id": "4GDI8E7IGKBO",
        "colab_type": "code",
        "outputId": "a592a105-57cc-4580-eae5-b736c581d1bf",
        "colab": {
          "base_uri": "https://localhost:8080/",
          "height": 69
        }
      },
      "source": [
        "model2.fit(xtrainfin, ytrainfin)\n",
        "print(model2.feature_importances_)"
      ],
      "execution_count": 163,
      "outputs": [
        {
          "output_type": "stream",
          "text": [
            "[0.06531069 0.06729393 0.07048333 0.06891563 0.07304908 0.07440244\n",
            " 0.06682521 0.0770828  0.06584303 0.0674205  0.067243   0.07617074\n",
            " 0.07144207 0.08851755]\n"
          ],
          "name": "stdout"
        }
      ]
    },
    {
      "cell_type": "markdown",
      "metadata": {
        "id": "i8gYH1obGQZg",
        "colab_type": "text"
      },
      "source": [
        "#Feature Selection\n",
        "### 1) Total yellow cards\n",
        "### 2) Total red cards\n",
        "### 3) Scoring percentage\n",
        "### 4) SPG\n",
        "### 5) Games won percentage\n"
      ]
    },
    {
      "cell_type": "code",
      "metadata": {
        "id": "CjJqD_kEGMsC",
        "colab_type": "code",
        "outputId": "378f3fef-68e2-45c1-c6be-126b4c83f310",
        "colab": {
          "base_uri": "https://localhost:8080/",
          "height": 34
        }
      },
      "source": [
        "xTrain, X_test, yTrain, y_test = train_test_split(xtrainfin, ytrainfin)\n",
        "xTrain.shape"
      ],
      "execution_count": 164,
      "outputs": [
        {
          "output_type": "execute_result",
          "data": {
            "text/plain": [
              "(570, 14)"
            ]
          },
          "metadata": {
            "tags": []
          },
          "execution_count": 164
        }
      ]
    },
    {
      "cell_type": "code",
      "metadata": {
        "id": "waykwiXIGneF",
        "colab_type": "code",
        "colab": {}
      },
      "source": [
        "xTraindf = pd.DataFrame(xTrain, columns=['totalGoalsScored', 'totalGoalsAllowed', 'totalYellowCards', 'totalRedCards', 'totalFouls', 'totalCorners', 'spg', 'sag', 'gamesWonPercentage', 'goalieSaves', 'savesPercentage', 'savesRatio', 'scoringPercentage', 'scoringRatio'])\n",
        "bylr = xTraindf.copy()\n",
        "bylr['yTrain'] = yTrain"
      ],
      "execution_count": 0,
      "outputs": []
    },
    {
      "cell_type": "code",
      "metadata": {
        "id": "PBsZf218GuTC",
        "colab_type": "code",
        "outputId": "fef2148a-79da-447e-b2a4-d3ccd4ae830b",
        "colab": {
          "base_uri": "https://localhost:8080/",
          "height": 124
        }
      },
      "source": [
        "import pymc3 as pm\n",
        "with pm.Model() as reg:\n",
        "    pm.glm.GLM.from_formula('yTrain ~ totalGoalsScored + totalGoalsAllowed + totalYellowCards + totalRedCards + totalFouls + totalCorners + spg + sag + gamesWonPercentage + goalieSaves + savesPercentage + savesRatio + scoringPercentage + scoringRatio', bylr)\n",
        "    trace = pm.sample(1000, cores=2, tune = 1000)"
      ],
      "execution_count": 166,
      "outputs": [
        {
          "output_type": "stream",
          "text": [
            "Auto-assigning NUTS sampler...\n",
            "Initializing NUTS using jitter+adapt_diag...\n",
            "Multiprocess sampling (2 chains in 2 jobs)\n",
            "NUTS: [sd, scoringRatio, scoringPercentage, savesRatio, savesPercentage, goalieSaves, gamesWonPercentage, sag, spg, totalCorners, totalFouls, totalRedCards, totalYellowCards, totalGoalsAllowed, totalGoalsScored, Intercept]\n",
            "Sampling 2 chains: 100%|██████████| 4000/4000 [00:52<00:00, 76.92draws/s]\n"
          ],
          "name": "stderr"
        }
      ]
    },
    {
      "cell_type": "code",
      "metadata": {
        "id": "Wqc-0GJ6GwnX",
        "colab_type": "code",
        "outputId": "29963a49-3fc2-40db-d683-faf4a3355f71",
        "colab": {
          "base_uri": "https://localhost:8080/",
          "height": 729
        }
      },
      "source": [
        "!pip install arviz==0.6.1\n",
        "!pip install pymc3==3.8\n",
        "!pip install Theano==1.0.4"
      ],
      "execution_count": 167,
      "outputs": [
        {
          "output_type": "stream",
          "text": [
            "Requirement already satisfied: arviz==0.6.1 in /usr/local/lib/python3.6/dist-packages (0.6.1)\n",
            "Requirement already satisfied: xarray>=0.11 in /usr/local/lib/python3.6/dist-packages (from arviz==0.6.1) (0.14.1)\n",
            "Requirement already satisfied: pandas>=0.23 in /usr/local/lib/python3.6/dist-packages (from arviz==0.6.1) (0.25.3)\n",
            "Requirement already satisfied: netcdf4 in /usr/local/lib/python3.6/dist-packages (from arviz==0.6.1) (1.5.3)\n",
            "Requirement already satisfied: packaging in /usr/local/lib/python3.6/dist-packages (from arviz==0.6.1) (20.1)\n",
            "Requirement already satisfied: matplotlib>=3.0 in /usr/local/lib/python3.6/dist-packages (from arviz==0.6.1) (3.1.3)\n",
            "Requirement already satisfied: numpy>=1.12 in /usr/local/lib/python3.6/dist-packages (from arviz==0.6.1) (1.17.5)\n",
            "Requirement already satisfied: scipy>=0.19 in /usr/local/lib/python3.6/dist-packages (from arviz==0.6.1) (1.4.1)\n",
            "Requirement already satisfied: python-dateutil>=2.6.1 in /usr/local/lib/python3.6/dist-packages (from pandas>=0.23->arviz==0.6.1) (2.6.1)\n",
            "Requirement already satisfied: pytz>=2017.2 in /usr/local/lib/python3.6/dist-packages (from pandas>=0.23->arviz==0.6.1) (2018.9)\n",
            "Requirement already satisfied: cftime in /usr/local/lib/python3.6/dist-packages (from netcdf4->arviz==0.6.1) (1.1.0)\n",
            "Requirement already satisfied: pyparsing>=2.0.2 in /usr/local/lib/python3.6/dist-packages (from packaging->arviz==0.6.1) (2.4.6)\n",
            "Requirement already satisfied: six in /usr/local/lib/python3.6/dist-packages (from packaging->arviz==0.6.1) (1.12.0)\n",
            "Requirement already satisfied: cycler>=0.10 in /usr/local/lib/python3.6/dist-packages (from matplotlib>=3.0->arviz==0.6.1) (0.10.0)\n",
            "Requirement already satisfied: kiwisolver>=1.0.1 in /usr/local/lib/python3.6/dist-packages (from matplotlib>=3.0->arviz==0.6.1) (1.1.0)\n",
            "Requirement already satisfied: setuptools in /usr/local/lib/python3.6/dist-packages (from kiwisolver>=1.0.1->matplotlib>=3.0->arviz==0.6.1) (45.2.0)\n",
            "Requirement already satisfied: pymc3==3.8 in /usr/local/lib/python3.6/dist-packages (3.8)\n",
            "Requirement already satisfied: theano>=1.0.4 in /usr/local/lib/python3.6/dist-packages (from pymc3==3.8) (1.0.4)\n",
            "Requirement already satisfied: pandas>=0.18.0 in /usr/local/lib/python3.6/dist-packages (from pymc3==3.8) (0.25.3)\n",
            "Requirement already satisfied: numpy>=1.13.0 in /usr/local/lib/python3.6/dist-packages (from pymc3==3.8) (1.17.5)\n",
            "Requirement already satisfied: fastprogress>=0.2.0 in /usr/local/lib/python3.6/dist-packages (from pymc3==3.8) (0.2.2)\n",
            "Requirement already satisfied: scipy>=0.18.1 in /usr/local/lib/python3.6/dist-packages (from pymc3==3.8) (1.4.1)\n",
            "Requirement already satisfied: h5py>=2.7.0 in /usr/local/lib/python3.6/dist-packages (from pymc3==3.8) (2.8.0)\n",
            "Requirement already satisfied: patsy>=0.5.1 in /usr/local/lib/python3.6/dist-packages (from pymc3==3.8) (0.5.1)\n",
            "Requirement already satisfied: arviz>=0.4.1 in /usr/local/lib/python3.6/dist-packages (from pymc3==3.8) (0.6.1)\n",
            "Requirement already satisfied: six>=1.9.0 in /usr/local/lib/python3.6/dist-packages (from theano>=1.0.4->pymc3==3.8) (1.12.0)\n",
            "Requirement already satisfied: pytz>=2017.2 in /usr/local/lib/python3.6/dist-packages (from pandas>=0.18.0->pymc3==3.8) (2018.9)\n",
            "Requirement already satisfied: python-dateutil>=2.6.1 in /usr/local/lib/python3.6/dist-packages (from pandas>=0.18.0->pymc3==3.8) (2.6.1)\n",
            "Requirement already satisfied: matplotlib>=3.0 in /usr/local/lib/python3.6/dist-packages (from arviz>=0.4.1->pymc3==3.8) (3.1.3)\n",
            "Requirement already satisfied: xarray>=0.11 in /usr/local/lib/python3.6/dist-packages (from arviz>=0.4.1->pymc3==3.8) (0.14.1)\n",
            "Requirement already satisfied: packaging in /usr/local/lib/python3.6/dist-packages (from arviz>=0.4.1->pymc3==3.8) (20.1)\n",
            "Requirement already satisfied: netcdf4 in /usr/local/lib/python3.6/dist-packages (from arviz>=0.4.1->pymc3==3.8) (1.5.3)\n",
            "Requirement already satisfied: kiwisolver>=1.0.1 in /usr/local/lib/python3.6/dist-packages (from matplotlib>=3.0->arviz>=0.4.1->pymc3==3.8) (1.1.0)\n",
            "Requirement already satisfied: pyparsing!=2.0.4,!=2.1.2,!=2.1.6,>=2.0.1 in /usr/local/lib/python3.6/dist-packages (from matplotlib>=3.0->arviz>=0.4.1->pymc3==3.8) (2.4.6)\n",
            "Requirement already satisfied: cycler>=0.10 in /usr/local/lib/python3.6/dist-packages (from matplotlib>=3.0->arviz>=0.4.1->pymc3==3.8) (0.10.0)\n",
            "Requirement already satisfied: cftime in /usr/local/lib/python3.6/dist-packages (from netcdf4->arviz>=0.4.1->pymc3==3.8) (1.1.0)\n",
            "Requirement already satisfied: setuptools in /usr/local/lib/python3.6/dist-packages (from kiwisolver>=1.0.1->matplotlib>=3.0->arviz>=0.4.1->pymc3==3.8) (45.2.0)\n",
            "Requirement already satisfied: Theano==1.0.4 in /usr/local/lib/python3.6/dist-packages (1.0.4)\n",
            "Requirement already satisfied: numpy>=1.9.1 in /usr/local/lib/python3.6/dist-packages (from Theano==1.0.4) (1.17.5)\n",
            "Requirement already satisfied: six>=1.9.0 in /usr/local/lib/python3.6/dist-packages (from Theano==1.0.4) (1.12.0)\n",
            "Requirement already satisfied: scipy>=0.14 in /usr/local/lib/python3.6/dist-packages (from Theano==1.0.4) (1.4.1)\n"
          ],
          "name": "stdout"
        }
      ]
    },
    {
      "cell_type": "code",
      "metadata": {
        "id": "VTo5bqcxKD7-",
        "colab_type": "code",
        "outputId": "35bd93b3-cd13-4702-94d5-76d9e333e70e",
        "colab": {
          "base_uri": "https://localhost:8080/",
          "height": 469
        }
      },
      "source": [
        "pm.traceplot(trace)"
      ],
      "execution_count": 168,
      "outputs": [
        {
          "output_type": "error",
          "ename": "ImportError",
          "evalue": "ignored",
          "traceback": [
            "\u001b[0;31m---------------------------------------------------------------------------\u001b[0m",
            "\u001b[0;31mImportError\u001b[0m                               Traceback (most recent call last)",
            "\u001b[0;32m<ipython-input-168-4b673fced3da>\u001b[0m in \u001b[0;36m<module>\u001b[0;34m()\u001b[0m\n\u001b[0;32m----> 1\u001b[0;31m \u001b[0mpm\u001b[0m\u001b[0;34m.\u001b[0m\u001b[0mtraceplot\u001b[0m\u001b[0;34m(\u001b[0m\u001b[0mtrace\u001b[0m\u001b[0;34m)\u001b[0m\u001b[0;34m\u001b[0m\u001b[0;34m\u001b[0m\u001b[0m\n\u001b[0m",
            "\u001b[0;32m/usr/local/lib/python3.6/dist-packages/pymc3/plots/__init__.py\u001b[0m in \u001b[0;36mwrapped\u001b[0;34m(*args, **kwargs)\u001b[0m\n\u001b[1;32m     40\u001b[0m \u001b[0;31m# pymc3 custom plots: override these names for custom behavior\u001b[0m\u001b[0;34m\u001b[0m\u001b[0;34m\u001b[0m\u001b[0;34m\u001b[0m\u001b[0m\n\u001b[1;32m     41\u001b[0m \u001b[0mautocorrplot\u001b[0m \u001b[0;34m=\u001b[0m \u001b[0mmap_args\u001b[0m\u001b[0;34m(\u001b[0m\u001b[0maz\u001b[0m\u001b[0;34m.\u001b[0m\u001b[0mplot_autocorr\u001b[0m\u001b[0;34m)\u001b[0m\u001b[0;34m\u001b[0m\u001b[0;34m\u001b[0m\u001b[0m\n\u001b[0;32m---> 42\u001b[0;31m \u001b[0mforestplot\u001b[0m \u001b[0;34m=\u001b[0m \u001b[0mmap_args\u001b[0m\u001b[0;34m(\u001b[0m\u001b[0maz\u001b[0m\u001b[0;34m.\u001b[0m\u001b[0mplot_forest\u001b[0m\u001b[0;34m)\u001b[0m\u001b[0;34m\u001b[0m\u001b[0;34m\u001b[0m\u001b[0m\n\u001b[0m\u001b[1;32m     43\u001b[0m \u001b[0mkdeplot\u001b[0m \u001b[0;34m=\u001b[0m \u001b[0mmap_args\u001b[0m\u001b[0;34m(\u001b[0m\u001b[0maz\u001b[0m\u001b[0;34m.\u001b[0m\u001b[0mplot_kde\u001b[0m\u001b[0;34m)\u001b[0m\u001b[0;34m\u001b[0m\u001b[0;34m\u001b[0m\u001b[0m\n\u001b[1;32m     44\u001b[0m \u001b[0mplot_posterior\u001b[0m \u001b[0;34m=\u001b[0m \u001b[0mmap_args\u001b[0m\u001b[0;34m(\u001b[0m\u001b[0maz\u001b[0m\u001b[0;34m.\u001b[0m\u001b[0mplot_posterior\u001b[0m\u001b[0;34m)\u001b[0m\u001b[0;34m\u001b[0m\u001b[0;34m\u001b[0m\u001b[0m\n",
            "\u001b[0;32m/usr/local/lib/python3.6/dist-packages/pymc3/plots/__init__.py\u001b[0m in \u001b[0;36m__call__\u001b[0;34m(self, *args, **kwargs)\u001b[0m\n\u001b[1;32m     20\u001b[0m \"\"\"\n\u001b[1;32m     21\u001b[0m \u001b[0;32mimport\u001b[0m \u001b[0mfunctools\u001b[0m\u001b[0;34m\u001b[0m\u001b[0;34m\u001b[0m\u001b[0m\n\u001b[0;32m---> 22\u001b[0;31m \u001b[0;32mimport\u001b[0m \u001b[0msys\u001b[0m\u001b[0;34m\u001b[0m\u001b[0;34m\u001b[0m\u001b[0m\n\u001b[0m\u001b[1;32m     23\u001b[0m \u001b[0;32mimport\u001b[0m \u001b[0mwarnings\u001b[0m\u001b[0;34m\u001b[0m\u001b[0;34m\u001b[0m\u001b[0m\n\u001b[1;32m     24\u001b[0m \u001b[0;34m\u001b[0m\u001b[0m\n",
            "\u001b[0;31mImportError\u001b[0m: ArviZ is not installed. In order to use `plot_trace`:\npip install arviz",
            "",
            "\u001b[0;31m---------------------------------------------------------------------------\u001b[0;32m\nNOTE: If your import is failing due to a missing package, you can\nmanually install dependencies using either !pip or !apt.\n\nTo view examples of installing some common dependencies, click the\n\"Open Examples\" button below.\n\u001b[0;31m---------------------------------------------------------------------------\u001b[0m\n"
          ]
        }
      ]
    },
    {
      "cell_type": "code",
      "metadata": {
        "id": "1vdSX5XDKsyG",
        "colab_type": "code",
        "colab": {
          "base_uri": "https://localhost:8080/",
          "height": 469
        },
        "outputId": "7ed824ae-2f5d-480f-f830-8c5d9c02881c"
      },
      "source": [
        "pm.plot_posterior(trace)"
      ],
      "execution_count": 170,
      "outputs": [
        {
          "output_type": "error",
          "ename": "ImportError",
          "evalue": "ignored",
          "traceback": [
            "\u001b[0;31m---------------------------------------------------------------------------\u001b[0m",
            "\u001b[0;31mImportError\u001b[0m                               Traceback (most recent call last)",
            "\u001b[0;32m<ipython-input-170-7613a60d8120>\u001b[0m in \u001b[0;36m<module>\u001b[0;34m()\u001b[0m\n\u001b[0;32m----> 1\u001b[0;31m \u001b[0mpm\u001b[0m\u001b[0;34m.\u001b[0m\u001b[0mplot_posterior\u001b[0m\u001b[0;34m(\u001b[0m\u001b[0mtrace\u001b[0m\u001b[0;34m)\u001b[0m\u001b[0;34m\u001b[0m\u001b[0;34m\u001b[0m\u001b[0m\n\u001b[0m",
            "\u001b[0;32m/usr/local/lib/python3.6/dist-packages/pymc3/plots/__init__.py\u001b[0m in \u001b[0;36mwrapped\u001b[0;34m(*args, **kwargs)\u001b[0m\n\u001b[1;32m     40\u001b[0m \u001b[0;31m# pymc3 custom plots: override these names for custom behavior\u001b[0m\u001b[0;34m\u001b[0m\u001b[0;34m\u001b[0m\u001b[0;34m\u001b[0m\u001b[0m\n\u001b[1;32m     41\u001b[0m \u001b[0mautocorrplot\u001b[0m \u001b[0;34m=\u001b[0m \u001b[0mmap_args\u001b[0m\u001b[0;34m(\u001b[0m\u001b[0maz\u001b[0m\u001b[0;34m.\u001b[0m\u001b[0mplot_autocorr\u001b[0m\u001b[0;34m)\u001b[0m\u001b[0;34m\u001b[0m\u001b[0;34m\u001b[0m\u001b[0m\n\u001b[0;32m---> 42\u001b[0;31m \u001b[0mforestplot\u001b[0m \u001b[0;34m=\u001b[0m \u001b[0mmap_args\u001b[0m\u001b[0;34m(\u001b[0m\u001b[0maz\u001b[0m\u001b[0;34m.\u001b[0m\u001b[0mplot_forest\u001b[0m\u001b[0;34m)\u001b[0m\u001b[0;34m\u001b[0m\u001b[0;34m\u001b[0m\u001b[0m\n\u001b[0m\u001b[1;32m     43\u001b[0m \u001b[0mkdeplot\u001b[0m \u001b[0;34m=\u001b[0m \u001b[0mmap_args\u001b[0m\u001b[0;34m(\u001b[0m\u001b[0maz\u001b[0m\u001b[0;34m.\u001b[0m\u001b[0mplot_kde\u001b[0m\u001b[0;34m)\u001b[0m\u001b[0;34m\u001b[0m\u001b[0;34m\u001b[0m\u001b[0m\n\u001b[1;32m     44\u001b[0m \u001b[0mplot_posterior\u001b[0m \u001b[0;34m=\u001b[0m \u001b[0mmap_args\u001b[0m\u001b[0;34m(\u001b[0m\u001b[0maz\u001b[0m\u001b[0;34m.\u001b[0m\u001b[0mplot_posterior\u001b[0m\u001b[0;34m)\u001b[0m\u001b[0;34m\u001b[0m\u001b[0;34m\u001b[0m\u001b[0m\n",
            "\u001b[0;32m/usr/local/lib/python3.6/dist-packages/pymc3/plots/__init__.py\u001b[0m in \u001b[0;36m__call__\u001b[0;34m(self, *args, **kwargs)\u001b[0m\n\u001b[1;32m     20\u001b[0m \"\"\"\n\u001b[1;32m     21\u001b[0m \u001b[0;32mimport\u001b[0m \u001b[0mfunctools\u001b[0m\u001b[0;34m\u001b[0m\u001b[0;34m\u001b[0m\u001b[0m\n\u001b[0;32m---> 22\u001b[0;31m \u001b[0;32mimport\u001b[0m \u001b[0msys\u001b[0m\u001b[0;34m\u001b[0m\u001b[0;34m\u001b[0m\u001b[0m\n\u001b[0m\u001b[1;32m     23\u001b[0m \u001b[0;32mimport\u001b[0m \u001b[0mwarnings\u001b[0m\u001b[0;34m\u001b[0m\u001b[0;34m\u001b[0m\u001b[0m\n\u001b[1;32m     24\u001b[0m \u001b[0;34m\u001b[0m\u001b[0m\n",
            "\u001b[0;31mImportError\u001b[0m: ArviZ is not installed. In order to use `plot_posterior`:\npip install arviz",
            "",
            "\u001b[0;31m---------------------------------------------------------------------------\u001b[0;32m\nNOTE: If your import is failing due to a missing package, you can\nmanually install dependencies using either !pip or !apt.\n\nTo view examples of installing some common dependencies, click the\n\"Open Examples\" button below.\n\u001b[0;31m---------------------------------------------------------------------------\u001b[0m\n"
          ]
        }
      ]
    },
    {
      "cell_type": "code",
      "metadata": {
        "id": "inCPva7ZdvNu",
        "colab_type": "code",
        "colab": {
          "base_uri": "https://localhost:8080/",
          "height": 54
        },
        "outputId": "93e426f3-52e0-42c7-e0e6-a58a7bd91a01"
      },
      "source": [
        "model_formula = 'Featuressum = '\n",
        "for variable in trace.varnames:\n",
        "    model_formula += ' %0.2f * %s +' % (np.mean(trace[variable]), variable)\n",
        "\n",
        "' '.join(model_formula.split(' ')[:-1])"
      ],
      "execution_count": 171,
      "outputs": [
        {
          "output_type": "execute_result",
          "data": {
            "text/plain": [
              "'Featuressum =  0.51 * Intercept + 0.01 * totalGoalsScored + -0.00 * totalGoalsAllowed + 0.00 * totalYellowCards + 0.00 * totalRedCards + -0.00 * totalFouls + -0.00 * totalCorners + -0.00 * spg + -0.00 * sag + 0.01 * gamesWonPercentage + -0.00 * goalieSaves + -0.00 * savesPercentage + -0.30 * savesRatio + -0.14 * scoringPercentage + 0.11 * scoringRatio + -0.68 * sd_log__ + 0.50 * sd'"
            ]
          },
          "metadata": {
            "tags": []
          },
          "execution_count": 171
        }
      ]
    },
    {
      "cell_type": "code",
      "metadata": {
        "id": "c-WgIGqWev1c",
        "colab_type": "code",
        "colab": {
          "base_uri": "https://localhost:8080/",
          "height": 330
        },
        "outputId": "33b01464-df59-4979-e677-a3a366ede7f6"
      },
      "source": [
        "var_dict = {}\n",
        "for variable in trace.varnames:\n",
        "    var_dict[variable] = trace[variable]\n",
        "var_weights = pd.DataFrame(var_dict)\n",
        "var_means = var_weights.mean(axis=0)\n",
        "var_means"
      ],
      "execution_count": 172,
      "outputs": [
        {
          "output_type": "execute_result",
          "data": {
            "text/plain": [
              "Intercept             0.507165\n",
              "totalGoalsScored      0.005929\n",
              "totalGoalsAllowed    -0.004227\n",
              "totalYellowCards      0.002717\n",
              "totalRedCards         0.004840\n",
              "totalFouls           -0.001030\n",
              "totalCorners         -0.000377\n",
              "spg                  -0.000965\n",
              "sag                  -0.004320\n",
              "gamesWonPercentage    0.007812\n",
              "goalieSaves          -0.004173\n",
              "savesPercentage      -0.000474\n",
              "savesRatio           -0.298056\n",
              "scoringPercentage    -0.135251\n",
              "scoringRatio          0.112573\n",
              "sd_log__             -0.684233\n",
              "sd                    0.504705\n",
              "dtype: float64"
            ]
          },
          "metadata": {
            "tags": []
          },
          "execution_count": 172
        }
      ]
    },
    {
      "cell_type": "code",
      "metadata": {
        "id": "43IbQsKtex8u",
        "colab_type": "code",
        "colab": {}
      },
      "source": [
        "X_testt = pd.DataFrame(X_test, columns=['totalGoalsScored', 'totalGoalsAllowed', 'totalYellowCards', 'totalRedCards', 'totalFouls', 'totalCorners', 'spg', 'sag', 'gamesWonPercentage', 'goalieSaves', 'savesPercentage', 'savesRatio', 'scoringPercentage', 'scoringRatio'])\n",
        "X_testt['Intercept'] = 1\n",
        "names = X_testt.columns[1:]\n",
        "X_testt = X_testt.loc[:, names]\n",
        "var_means = var_means[names]"
      ],
      "execution_count": 0,
      "outputs": []
    },
    {
      "cell_type": "code",
      "metadata": {
        "id": "csHEcg5Ie0Ar",
        "colab_type": "code",
        "colab": {
          "base_uri": "https://localhost:8080/",
          "height": 278
        },
        "outputId": "933afbc5-b9fe-4527-dfec-16a6ce96701d"
      },
      "source": [
        "var_means\n"
      ],
      "execution_count": 174,
      "outputs": [
        {
          "output_type": "execute_result",
          "data": {
            "text/plain": [
              "totalGoalsAllowed    -0.004227\n",
              "totalYellowCards      0.002717\n",
              "totalRedCards         0.004840\n",
              "totalFouls           -0.001030\n",
              "totalCorners         -0.000377\n",
              "spg                  -0.000965\n",
              "sag                  -0.004320\n",
              "gamesWonPercentage    0.007812\n",
              "goalieSaves          -0.004173\n",
              "savesPercentage      -0.000474\n",
              "savesRatio           -0.298056\n",
              "scoringPercentage    -0.135251\n",
              "scoringRatio          0.112573\n",
              "Intercept             0.507165\n",
              "dtype: float64"
            ]
          },
          "metadata": {
            "tags": []
          },
          "execution_count": 174
        }
      ]
    },
    {
      "cell_type": "code",
      "metadata": {
        "id": "Orjuv57We3Fq",
        "colab_type": "code",
        "colab": {
          "base_uri": "https://localhost:8080/",
          "height": 69
        },
        "outputId": "f2b50433-29f0-4eea-96cf-3d3b8e79d6af"
      },
      "source": [
        "ppc = pm.sample_ppc(trace, model=reg, samples=1000)"
      ],
      "execution_count": 175,
      "outputs": [
        {
          "output_type": "stream",
          "text": [
            "/usr/local/lib/python3.6/dist-packages/ipykernel_launcher.py:1: DeprecationWarning: sample_ppc() is deprecated.  Please use sample_posterior_predictive()\n",
            "  \"\"\"Entry point for launching an IPython kernel.\n",
            "100%|██████████| 1000/1000 [00:01<00:00, 535.84it/s]\n"
          ],
          "name": "stderr"
        }
      ]
    },
    {
      "cell_type": "code",
      "metadata": {
        "id": "ott8uvI9e5a7",
        "colab_type": "code",
        "colab": {
          "base_uri": "https://localhost:8080/",
          "height": 34
        },
        "outputId": "a7aab921-eb11-4f66-e453-72a7a6a6a9bd"
      },
      "source": [
        "result = []\n",
        "for i in ppc['y']:\n",
        "    result.append(i.mean())\n",
        "# ppc['y'][0].mean()\n",
        "BLavgpredict = sum(result)/len(result)\n",
        "print(BLavgpredict)"
      ],
      "execution_count": 176,
      "outputs": [
        {
          "output_type": "stream",
          "text": [
            "0.5102786187564393\n"
          ],
          "name": "stdout"
        }
      ]
    },
    {
      "cell_type": "code",
      "metadata": {
        "id": "kqY02Chme8L-",
        "colab_type": "code",
        "colab": {}
      },
      "source": [
        "def evaluate(xTrain, X_test, yTrain, y_test):\n",
        "    # Names of models\n",
        "    model_name_list = ['Linear Regression', 'AdaBoostRegressor', 'ElasticNet Regression',\n",
        "                       'Extra Trees', 'SVM',\n",
        "                       'Gradient Boosted', 'Baseline']\n",
        "    \n",
        "    # Instantiate the models\n",
        "    model1 = LinearRegression()\n",
        "    model2 = ElasticNet(alpha=1.0, l1_ratio=0.5)\n",
        "    model3 = AdaBoostRegressor()\n",
        "    model4 = ExtraTreesRegressor(n_estimators=50)\n",
        "    model5 = SVR(kernel='rbf', degree=3, C=1.0, gamma='auto')\n",
        "    model6 = GradientBoostingRegressor(n_estimators=20)\n",
        "    \n",
        "    # Dataframe for results\n",
        "    results = pd.DataFrame(columns=['mae', 'rmse'], index = model_name_list)\n",
        "    \n",
        "    # Train and predict with each model\n",
        "    for i, model in enumerate([model1, model2, model3, model4, model5, model6]):\n",
        "        model.fit(xTrain, yTrain)\n",
        "        predictions = model.predict(X_test)\n",
        "        \n",
        "        # Metrics\n",
        "        mae = np.mean(abs(predictions - y_test))\n",
        "        rmse = np.sqrt(np.mean((predictions - y_test) ** 2))\n",
        "        \n",
        "        # Insert results into the dataframe\n",
        "        model_name = model_name_list[i]\n",
        "        results.ix[model_name, :] = [mae, rmse]\n",
        "    \n",
        "    # Median Value Baseline Metrics\n",
        "    baseline = np.median(yTrain)\n",
        "    baseline_mae = np.mean(abs(baseline - y_test))\n",
        "    baseline_rmse = np.sqrt(np.mean((baseline - y_test) ** 2))\n",
        "    \n",
        "    results.ix['Baseline', :] = [baseline_mae, baseline_rmse]\n",
        "    \n",
        "    return results"
      ],
      "execution_count": 0,
      "outputs": []
    },
    {
      "cell_type": "code",
      "metadata": {
        "id": "Vjt1a0RVfC9e",
        "colab_type": "code",
        "colab": {
          "base_uri": "https://localhost:8080/",
          "height": 868
        },
        "outputId": "b792fa1b-a69c-4c46-a31d-0549ed5a114b"
      },
      "source": [
        "results = evaluate(xTrain, X_test, yTrain, y_test)"
      ],
      "execution_count": 178,
      "outputs": [
        {
          "output_type": "stream",
          "text": [
            "/usr/local/lib/python3.6/dist-packages/ipykernel_launcher.py:29: FutureWarning: \n",
            ".ix is deprecated. Please use\n",
            ".loc for label based indexing or\n",
            ".iloc for positional indexing\n",
            "\n",
            "See the documentation here:\n",
            "http://pandas.pydata.org/pandas-docs/stable/user_guide/indexing.html#ix-indexer-is-deprecated\n",
            "/usr/local/lib/python3.6/dist-packages/ipykernel_launcher.py:29: FutureWarning: \n",
            ".ix is deprecated. Please use\n",
            ".loc for label based indexing or\n",
            ".iloc for positional indexing\n",
            "\n",
            "See the documentation here:\n",
            "http://pandas.pydata.org/pandas-docs/stable/user_guide/indexing.html#ix-indexer-is-deprecated\n",
            "/usr/local/lib/python3.6/dist-packages/ipykernel_launcher.py:29: FutureWarning: \n",
            ".ix is deprecated. Please use\n",
            ".loc for label based indexing or\n",
            ".iloc for positional indexing\n",
            "\n",
            "See the documentation here:\n",
            "http://pandas.pydata.org/pandas-docs/stable/user_guide/indexing.html#ix-indexer-is-deprecated\n",
            "/usr/local/lib/python3.6/dist-packages/ipykernel_launcher.py:29: FutureWarning: \n",
            ".ix is deprecated. Please use\n",
            ".loc for label based indexing or\n",
            ".iloc for positional indexing\n",
            "\n",
            "See the documentation here:\n",
            "http://pandas.pydata.org/pandas-docs/stable/user_guide/indexing.html#ix-indexer-is-deprecated\n",
            "/usr/local/lib/python3.6/dist-packages/ipykernel_launcher.py:29: FutureWarning: \n",
            ".ix is deprecated. Please use\n",
            ".loc for label based indexing or\n",
            ".iloc for positional indexing\n",
            "\n",
            "See the documentation here:\n",
            "http://pandas.pydata.org/pandas-docs/stable/user_guide/indexing.html#ix-indexer-is-deprecated\n",
            "/usr/local/lib/python3.6/dist-packages/ipykernel_launcher.py:29: FutureWarning: \n",
            ".ix is deprecated. Please use\n",
            ".loc for label based indexing or\n",
            ".iloc for positional indexing\n",
            "\n",
            "See the documentation here:\n",
            "http://pandas.pydata.org/pandas-docs/stable/user_guide/indexing.html#ix-indexer-is-deprecated\n",
            "/usr/local/lib/python3.6/dist-packages/ipykernel_launcher.py:36: FutureWarning: \n",
            ".ix is deprecated. Please use\n",
            ".loc for label based indexing or\n",
            ".iloc for positional indexing\n",
            "\n",
            "See the documentation here:\n",
            "http://pandas.pydata.org/pandas-docs/stable/user_guide/indexing.html#ix-indexer-is-deprecated\n"
          ],
          "name": "stderr"
        }
      ]
    },
    {
      "cell_type": "code",
      "metadata": {
        "id": "ja1LVfqPfFGW",
        "colab_type": "code",
        "colab": {}
      },
      "source": [
        "def evaluate_trace(trace, X_train, X_test, y_train, y_test, model_results):\n",
        "    \n",
        "    # Dictionary of all sampled values for each parameter\n",
        "    var_dict = {}\n",
        "    for variable in trace.varnames:\n",
        "        var_dict[variable] = trace[variable]\n",
        "        \n",
        "    # Results into a dataframe\n",
        "    var_weights = pd.DataFrame(var_dict)\n",
        "    \n",
        "    # Means for all the weights\n",
        "    var_means = var_weights.mean(axis=0)\n",
        "    \n",
        "    # Create an intercept column\n",
        "    X_test['Intercept'] = 1\n",
        "    \n",
        "    # Align names of the test observations and means\n",
        "    names = X_test.columns[1:]\n",
        "    X_test = X_test.ix[:, names]\n",
        "    var_means = var_means[names]\n",
        "    \n",
        "    # Calculate estimate for each test observation using the average weights\n",
        "    results = pd.DataFrame(index = X_test.index, columns = ['estimate'])\n",
        "\n",
        "    for row in X_test.iterrows():\n",
        "        results.ix[row[0], 'estimate'] = np.dot(np.array(var_means), np.array(row[1]))\n",
        "        \n",
        "    # Metrics \n",
        "    actual = np.array(y_test)\n",
        "    errors = results['estimate'] - actual\n",
        "    mae = np.mean(abs(errors))\n",
        "    rmse = np.sqrt(np.mean(errors ** 2))\n",
        "    \n",
        "    print('Model  MAE: {:.4f}\\nModel RMSE: {:.4f}'.format(mae, rmse))\n",
        "    \n",
        "    # Add the results to the comparison dataframe\n",
        "    model_results.loc['Bayesian LR', :] = [mae, rmse]\n",
        "    \n",
        "    plt.figure(figsize=(12, 8))\n",
        "    \n",
        "    # Plot median absolute percentage error of all models\n",
        "    ax = plt.subplot(1, 2, 1)\n",
        "    model_results.sort_values('mae', ascending = True).plot.bar(y = 'mae', color = 'r', ax = ax)\n",
        "    plt.title('Model Mean Absolute Error Comparison'); plt.ylabel('MAE'); \n",
        "    plt.tight_layout()\n",
        "    \n",
        "    # Plot root mean squared error of all models\n",
        "    ax = plt.subplot(1, 2, 2)\n",
        "    model_results.sort_values('rmse', ascending = True).plot.bar(y = 'rmse', color = 'b', ax = ax)\n",
        "    plt.title('Model RMSE Comparison'); plt.ylabel('RMSE')\n",
        "    \n",
        "    return model_results"
      ],
      "execution_count": 0,
      "outputs": []
    },
    {
      "cell_type": "code",
      "metadata": {
        "id": "-wb18E-Sfi0g",
        "colab_type": "code",
        "colab": {
          "base_uri": "https://localhost:8080/",
          "height": 1000
        },
        "outputId": "83aef08a-f640-4f7c-ef22-ac0a02f31452"
      },
      "source": [
        "all_model_results = evaluate_trace(trace, xTrain, X_testt, yTrain, y_test, results)"
      ],
      "execution_count": 180,
      "outputs": [
        {
          "output_type": "stream",
          "text": [
            "/usr/local/lib/python3.6/dist-packages/ipykernel_launcher.py:19: FutureWarning: \n",
            ".ix is deprecated. Please use\n",
            ".loc for label based indexing or\n",
            ".iloc for positional indexing\n",
            "\n",
            "See the documentation here:\n",
            "http://pandas.pydata.org/pandas-docs/stable/user_guide/indexing.html#ix-indexer-is-deprecated\n",
            "/usr/local/lib/python3.6/dist-packages/pandas/core/indexing.py:822: FutureWarning: \n",
            ".ix is deprecated. Please use\n",
            ".loc for label based indexing or\n",
            ".iloc for positional indexing\n",
            "\n",
            "See the documentation here:\n",
            "http://pandas.pydata.org/pandas-docs/stable/user_guide/indexing.html#ix-indexer-is-deprecated\n",
            "  retval = getattr(retval, self.name)._getitem_axis(key, axis=i)\n",
            "/usr/local/lib/python3.6/dist-packages/ipykernel_launcher.py:26: FutureWarning: \n",
            ".ix is deprecated. Please use\n",
            ".loc for label based indexing or\n",
            ".iloc for positional indexing\n",
            "\n",
            "See the documentation here:\n",
            "http://pandas.pydata.org/pandas-docs/stable/user_guide/indexing.html#ix-indexer-is-deprecated\n"
          ],
          "name": "stderr"
        },
        {
          "output_type": "stream",
          "text": [
            "Model  MAE: 0.5097\n",
            "Model RMSE: 0.5465\n"
          ],
          "name": "stdout"
        },
        {
          "output_type": "display_data",
          "data": {
            "image/png": "[encoded data removed]",
            "text/plain": [
              "<Figure size 864x576 with 2 Axes>"
            ]
          },
          "metadata": {
            "tags": [],
            "image/png": {
              "width": 855,
              "height": 568
            }
          }
        }
      ]
    },
    {
      "cell_type": "markdown",
      "metadata": {
        "id": "Jlsh65IUfoXy",
        "colab_type": "text"
      },
      "source": [
        "#Results"
      ]
    },
    {
      "cell_type": "code",
      "metadata": {
        "id": "UxAzcQY_fktw",
        "colab_type": "code",
        "outputId": "3068a424-6ea5-44c6-cf18-4d8a2fa06fe0",
        "colab": {
          "base_uri": "https://localhost:8080/",
          "height": 300
        }
      },
      "source": [
        "results\n"
      ],
      "execution_count": 181,
      "outputs": [
        {
          "output_type": "execute_result",
          "data": {
            "text/html": [
              "<div>\n",
              "<style scoped>\n",
              "    .dataframe tbody tr th:only-of-type {\n",
              "        vertical-align: middle;\n",
              "    }\n",
              "\n",
              "    .dataframe tbody tr th {\n",
              "        vertical-align: top;\n",
              "    }\n",
              "\n",
              "    .dataframe thead th {\n",
              "        text-align: right;\n",
              "    }\n",
              "</style>\n",
              "<table border=\"1\" class=\"dataframe\">\n",
              "  <thead>\n",
              "    <tr style=\"text-align: right;\">\n",
              "      <th></th>\n",
              "      <th>mae</th>\n",
              "      <th>rmse</th>\n",
              "    </tr>\n",
              "  </thead>\n",
              "  <tbody>\n",
              "    <tr>\n",
              "      <th>Linear Regression</th>\n",
              "      <td>0.519218</td>\n",
              "      <td>0.525936</td>\n",
              "    </tr>\n",
              "    <tr>\n",
              "      <th>AdaBoostRegressor</th>\n",
              "      <td>0.501831</td>\n",
              "      <td>0.501995</td>\n",
              "    </tr>\n",
              "    <tr>\n",
              "      <th>ElasticNet Regression</th>\n",
              "      <td>0.506183</td>\n",
              "      <td>0.506845</td>\n",
              "    </tr>\n",
              "    <tr>\n",
              "      <th>Extra Trees</th>\n",
              "      <td>0.621512</td>\n",
              "      <td>0.664239</td>\n",
              "    </tr>\n",
              "    <tr>\n",
              "      <th>SVM</th>\n",
              "      <td>0.609541</td>\n",
              "      <td>0.676142</td>\n",
              "    </tr>\n",
              "    <tr>\n",
              "      <th>Gradient Boosted</th>\n",
              "      <td>0.518185</td>\n",
              "      <td>0.52433</td>\n",
              "    </tr>\n",
              "    <tr>\n",
              "      <th>Baseline</th>\n",
              "      <td>0.531579</td>\n",
              "      <td>0.729095</td>\n",
              "    </tr>\n",
              "    <tr>\n",
              "      <th>Bayesian LR</th>\n",
              "      <td>0.509679</td>\n",
              "      <td>0.546532</td>\n",
              "    </tr>\n",
              "  </tbody>\n",
              "</table>\n",
              "</div>"
            ],
            "text/plain": [
              "                            mae      rmse\n",
              "Linear Regression      0.519218  0.525936\n",
              "AdaBoostRegressor      0.501831  0.501995\n",
              "ElasticNet Regression  0.506183  0.506845\n",
              "Extra Trees            0.621512  0.664239\n",
              "SVM                    0.609541  0.676142\n",
              "Gradient Boosted       0.518185   0.52433\n",
              "Baseline               0.531579  0.729095\n",
              "Bayesian LR            0.509679  0.546532"
            ]
          },
          "metadata": {
            "tags": []
          },
          "execution_count": 181
        }
      ]
    },
    {
      "cell_type": "code",
      "metadata": {
        "id": "MGoDUISnfpyD",
        "colab_type": "code",
        "outputId": "215d5c0e-2442-4e6a-f800-7e916b3b6028",
        "colab": {
          "base_uri": "https://localhost:8080/",
          "height": 206
        }
      },
      "source": [
        "path3 = \"/content/drive/My Drive/Datasets/Fixtures.csv\"\n",
        "data3 = pd.read_csv(path3)\n",
        "test = data3\n",
        "#test[\"Game ID\"] = test[\"Game ID\"].astype(int)\n",
        "test.head()"
      ],
      "execution_count": 182,
      "outputs": [
        {
          "output_type": "execute_result",
          "data": {
            "text/html": [
              "<div>\n",
              "<style scoped>\n",
              "    .dataframe tbody tr th:only-of-type {\n",
              "        vertical-align: middle;\n",
              "    }\n",
              "\n",
              "    .dataframe tbody tr th {\n",
              "        vertical-align: top;\n",
              "    }\n",
              "\n",
              "    .dataframe thead th {\n",
              "        text-align: right;\n",
              "    }\n",
              "</style>\n",
              "<table border=\"1\" class=\"dataframe\">\n",
              "  <thead>\n",
              "    <tr style=\"text-align: right;\">\n",
              "      <th></th>\n",
              "      <th>Match ID</th>\n",
              "      <th>Date</th>\n",
              "      <th>HomeTeam</th>\n",
              "      <th>AwayTeam</th>\n",
              "    </tr>\n",
              "  </thead>\n",
              "  <tbody>\n",
              "    <tr>\n",
              "      <th>0</th>\n",
              "      <td>1</td>\n",
              "      <td>09/08/2019 20:00</td>\n",
              "      <td>Liverpool</td>\n",
              "      <td>Norwich</td>\n",
              "    </tr>\n",
              "    <tr>\n",
              "      <th>1</th>\n",
              "      <td>2</td>\n",
              "      <td>10/08/2019 12:30</td>\n",
              "      <td>West Ham</td>\n",
              "      <td>Man City</td>\n",
              "    </tr>\n",
              "    <tr>\n",
              "      <th>2</th>\n",
              "      <td>3</td>\n",
              "      <td>10/08/2019 15:00</td>\n",
              "      <td>Bournemouth</td>\n",
              "      <td>Sheffield Utd</td>\n",
              "    </tr>\n",
              "    <tr>\n",
              "      <th>3</th>\n",
              "      <td>4</td>\n",
              "      <td>10/08/2019 15:00</td>\n",
              "      <td>Burnley</td>\n",
              "      <td>Southampton</td>\n",
              "    </tr>\n",
              "    <tr>\n",
              "      <th>4</th>\n",
              "      <td>5</td>\n",
              "      <td>10/08/2019 15:00</td>\n",
              "      <td>Crystal Palace</td>\n",
              "      <td>Everton</td>\n",
              "    </tr>\n",
              "  </tbody>\n",
              "</table>\n",
              "</div>"
            ],
            "text/plain": [
              "   Match ID              Date        HomeTeam       AwayTeam\n",
              "0         1  09/08/2019 20:00       Liverpool        Norwich\n",
              "1         2  10/08/2019 12:30        West Ham       Man City\n",
              "2         3  10/08/2019 15:00     Bournemouth  Sheffield Utd\n",
              "3         4  10/08/2019 15:00         Burnley    Southampton\n",
              "4         5  10/08/2019 15:00  Crystal Palace        Everton"
            ]
          },
          "metadata": {
            "tags": []
          },
          "execution_count": 182
        }
      ]
    },
    {
      "cell_type": "markdown",
      "metadata": {
        "id": "-1Zyaw4FwJo_",
        "colab_type": "text"
      },
      "source": [
        "#Predicting Home Game"
      ]
    },
    {
      "cell_type": "code",
      "metadata": {
        "id": "P-9PLdQNv9by",
        "colab_type": "code",
        "colab": {}
      },
      "source": [
        "def createGamePred(team1_vector, team2_vector, xTrain, yTrain):\n",
        "    xTrain, X_test, yTrain, y_test = train_test_split(xtrainfin, ytrainfin)\n",
        "    AB = AdaBoostRegressor()\n",
        "    AB.fit(xTrain, yTrain)\n",
        "    diff = np.array([a - b for a, b in zip(team1_vector, team2_vector)])\n",
        "    predictions = AB.predict(diff.reshape(1,-1))\n",
        "    return predictions"
      ],
      "execution_count": 0,
      "outputs": []
    },
    {
      "cell_type": "code",
      "metadata": {
        "id": "vzqXK2kmwFBN",
        "colab_type": "code",
        "colab": {}
      },
      "source": [
        "def formulatePredictions():\n",
        "    probs = [[0 for x in range(2)] for x in range(len(test.index))]\n",
        "    for index, row in test.iterrows():\n",
        "        game_ID = row[\"Match ID\"]\n",
        "        team1_Name = row[\"HomeTeam\"]\n",
        "        team2_Name = row[\"AwayTeam\"]\n",
        "        team1_vector = TeamData(team1_Name)\n",
        "        team2_vector = TeamData(team2_Name)\n",
        "        prediction = createGamePred(team1_vector, team2_vector, xTrain, yTrain)\n",
        "        probs[index][0] = game_ID\n",
        "        probs[index][1] = prediction\n",
        "    probs = pd.np.array(probs)\n",
        "    return probs"
      ],
      "execution_count": 0,
      "outputs": []
    },
    {
      "cell_type": "markdown",
      "metadata": {
        "id": "LxkP1db3wP8W",
        "colab_type": "text"
      },
      "source": [
        "#Predicting Away Games\n"
      ]
    },
    {
      "cell_type": "code",
      "metadata": {
        "id": "urtERbAKwHYe",
        "colab_type": "code",
        "colab": {}
      },
      "source": [
        "#def createGamePred(team1_vector, team2_vector, xTrain, yTrain):\n",
        " #    xTrain, X_test, yTrain, y_test = train_test_split(xtrainfin, ytrainfin)\n",
        "  #   AB = AdaBoostRegressor()\n",
        "   #  AB.fit(xTrain, yTrain)\n",
        "    # diff = np.array([a - b for a, b in zip(team1_vector, team2_vector)])\n",
        "     #predictions = AB.predict(diff.reshape(1,-1))\n",
        "     #return predictions"
      ],
      "execution_count": 0,
      "outputs": []
    },
    {
      "cell_type": "code",
      "metadata": {
        "id": "IhnWot8kwXIq",
        "colab_type": "code",
        "colab": {}
      },
      "source": [
        "predictdf=pd.DataFrame(formulatePredictions(), columns=[[\"Match ID\",\"Prediction\"]])\n",
        "pf1 = predictdf.drop(['Match ID'], axis = 1)\n",
        "predictable = pd.concat([test, pf1], axis=1)\n",
        "predictable.columns\n",
        "ptdf = predictable.drop(predictable.index[-1])"
      ],
      "execution_count": 0,
      "outputs": []
    },
    {
      "cell_type": "markdown",
      "metadata": {
        "id": "kQwtSbpw0VEn",
        "colab_type": "text"
      },
      "source": [
        "#Taking out matches of Cardiff, Fulham and Huddersfield because of relegation"
      ]
    },
    {
      "cell_type": "code",
      "metadata": {
        "id": "JslYYfgWwZ6L",
        "colab_type": "code",
        "colab": {}
      },
      "source": [
        "ptdf2 = ptdf[ptdf.HomeTeam.str.contains(\"Cardiff\") == False]\n",
        "ptdf3 = ptdf2[ptdf2.AwayTeam.str.contains(\"Fulham\") == False]\n",
        "ptdf4 = ptdf3[ptdf3.HomeTeam.str.contains(\"Huddersfield\") == False]\n",
        "ptdf5 = ptdf4[ptdf4.AwayTeam.str.contains(\"Huddersfield\") == False]\n",
        "ptdf6 = ptdf5[ptdf5.HomeTeam.str.contains(\"Cardiff\") == False]\n",
        "ptdf7 = ptdf6[ptdf6.AwayTeam.str.contains(\"Fulham\") == False]"
      ],
      "execution_count": 0,
      "outputs": []
    },
    {
      "cell_type": "code",
      "metadata": {
        "id": "PeUOjFh50sit",
        "colab_type": "code",
        "colab": {}
      },
      "source": [
        "ptdf7.columns.values[4] = \"HTwinPredict\"\n",
        "ptdf7[\"ATwinPredict\"] = 1 - ptdf7.iloc[:,4]"
      ],
      "execution_count": 0,
      "outputs": []
    },
    {
      "cell_type": "code",
      "metadata": {
        "id": "rfPBUlR524rT",
        "colab_type": "code",
        "colab": {}
      },
      "source": [
        "def win(row):\n",
        "    if (row[\"HTwinPredict\"] > row[\"ATwinPredict\"]):\n",
        "        return row[\"HomeTeam\"]\n",
        "    elif (row[\"ATwinPredict\"] > row[\"HTwinPredict\"]):\n",
        "        return row[\"AwayTeam\"]\n",
        "    elif (row[\"ATwinPredict\"] == row[\"HTwinPredict\"]):\n",
        "        return \"DRAW\"\n",
        "    \n",
        "\n",
        "def lose(row):\n",
        "    if (row[\"HTwinPredict\"] < row[\"ATwinPredict\"]):\n",
        "        return row[\"HomeTeam\"]\n",
        "    elif (row[\"ATwinPredict\"] < row[\"HTwinPredict\"]):\n",
        "        return row[\"AwayTeam\"]\n",
        "    elif (row[\"ATwinPredict\"] == row[\"HTwinPredict\"]):\n",
        "        return \"DRAW\"\n",
        "\n",
        "ptdf7[\"Winner\"] = ptdf7.apply(win, axis=1) \n",
        "ptdf7[\"Loser\"] = ptdf7.apply(lose, axis=1)"
      ],
      "execution_count": 0,
      "outputs": []
    },
    {
      "cell_type": "code",
      "metadata": {
        "id": "uDPFtWlK3QTo",
        "colab_type": "code",
        "colab": {
          "base_uri": "https://localhost:8080/",
          "height": 399
        },
        "outputId": "f6871ed1-8d89-48db-88d6-c1d7fbd902a8"
      },
      "source": [
        "ptdf7[\"Winner\"].value_counts()"
      ],
      "execution_count": 196,
      "outputs": [
        {
          "output_type": "execute_result",
          "data": {
            "text/plain": [
              "Everton           23\n",
              "Newcastle         22\n",
              "Brighton          22\n",
              "Man City          21\n",
              "Sheffield Utd     21\n",
              "Watford           20\n",
              "Southampton       20\n",
              "Arsenal           20\n",
              "Leicester         20\n",
              "Burnley           19\n",
              "Aston Villa       18\n",
              "Liverpool         18\n",
              "Norwich           18\n",
              "Chelsea           17\n",
              "Spurs             17\n",
              "West Ham          17\n",
              "Man Utd           16\n",
              "Bournemouth       16\n",
              "Crystal Palace    14\n",
              "Wolves            11\n",
              "DRAW               9\n",
              "Name: Winner, dtype: int64"
            ]
          },
          "metadata": {
            "tags": []
          },
          "execution_count": 196
        }
      ]
    },
    {
      "cell_type": "code",
      "metadata": {
        "id": "4fWsxRY63gn2",
        "colab_type": "code",
        "colab": {
          "base_uri": "https://localhost:8080/",
          "height": 399
        },
        "outputId": "d0e1a7b7-628f-4502-8150-1ddaf7cc3337"
      },
      "source": [
        "ptdf7[\"Loser\"].value_counts()"
      ],
      "execution_count": 197,
      "outputs": [
        {
          "output_type": "execute_result",
          "data": {
            "text/plain": [
              "Wolves            26\n",
              "Crystal Palace    23\n",
              "Man Utd           22\n",
              "Bournemouth       20\n",
              "West Ham          20\n",
              "Liverpool         19\n",
              "Chelsea           19\n",
              "Norwich           18\n",
              "Arsenal           18\n",
              "Watford           18\n",
              "Leicester         18\n",
              "Spurs             18\n",
              "Southampton       18\n",
              "Burnley           18\n",
              "Aston Villa       17\n",
              "Man City          17\n",
              "Sheffield Utd     16\n",
              "Everton           15\n",
              "Brighton          15\n",
              "Newcastle         15\n",
              "DRAW               9\n",
              "Name: Loser, dtype: int64"
            ]
          },
          "metadata": {
            "tags": []
          },
          "execution_count": 197
        }
      ]
    },
    {
      "cell_type": "code",
      "metadata": {
        "id": "TzrITF3n3irF",
        "colab_type": "code",
        "colab": {}
      },
      "source": [
        ""
      ],
      "execution_count": 0,
      "outputs": []
    }
  ]
}